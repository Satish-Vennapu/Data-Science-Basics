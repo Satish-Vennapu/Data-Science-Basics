{
 "cells": [
  {
   "cell_type": "markdown",
   "id": "8e4d8523",
   "metadata": {},
   "source": [
    "NumPy Basics"
   ]
  },
  {
   "cell_type": "code",
   "execution_count": 2,
   "id": "0fb3afff",
   "metadata": {},
   "outputs": [
    {
     "data": {
      "text/plain": [
       "array([1., 2., 3., 4., 5., 6., 7.])"
      ]
     },
     "execution_count": 2,
     "metadata": {},
     "output_type": "execute_result"
    }
   ],
   "source": [
    "import numpy as np\n",
    "data=[1,2,3,4,5,6,7]\n",
    "ar=np.array(data,np.float64)\n",
    "ar"
   ]
  },
  {
   "cell_type": "code",
   "execution_count": 8,
   "id": "617d3c71",
   "metadata": {},
   "outputs": [
    {
     "data": {
      "text/plain": [
       "array([[1.+0.j, 2.+0.j],\n",
       "       [3.+0.j, 4.+0.j]])"
      ]
     },
     "execution_count": 8,
     "metadata": {},
     "output_type": "execute_result"
    }
   ],
   "source": [
    "arrc = np.array([[1, 2], [3, 4]], dtype=complex)\n",
    "arrc"
   ]
  },
  {
   "cell_type": "code",
   "execution_count": null,
   "id": "265c63a7",
   "metadata": {},
   "outputs": [],
   "source": [
    "# list to 2d array\n",
    "arr1=np.array([[4.5, 6.3,7],[8.9,5.6,4.2]])\n",
    "arr2=arr1[:]\n",
    "arr2"
   ]
  },
  {
   "cell_type": "code",
   "execution_count": null,
   "id": "e35365e2",
   "metadata": {},
   "outputs": [],
   "source": [
    "#conversion back to list\n",
    "arr1.tolist()\n",
    "arr1"
   ]
  },
  {
   "cell_type": "code",
   "execution_count": null,
   "id": "40fcf4fa",
   "metadata": {},
   "outputs": [],
   "source": [
    "# common methods\n",
    "np.zeros(10)\n",
    "np.zeros((3, 6))\n",
    "np.ones(10)\n",
    "np.arange(1,10,2)\n",
    "np.linspace(0, 10, 50) # 0 to 10 (inclusive) with 50 points\n",
    "np.logspace(0, 3, 4) # 10^0 to 10^3 (inclusive) with 4 points"
   ]
  },
  {
   "cell_type": "code",
   "execution_count": null,
   "id": "11bfe092",
   "metadata": {},
   "outputs": [],
   "source": [
    "# astype\n",
    "int_array=np.arange(10)\n",
    "float_array=int_array.astype(float)\n",
    "float_array"
   ]
  },
  {
   "cell_type": "code",
   "execution_count": null,
   "id": "d8991539",
   "metadata": {},
   "outputs": [],
   "source": [
    "arr1.dtype \n",
    "arr2.ndim # 2\n",
    "arr2.shape # (2, 4) - axis 0 is rows, axis 1 is columns\n",
    "arr2.size # 8 - total number of elements\n",
    "len(arr2) # 2 - size of first dimension (aka axis)"
   ]
  },
  {
   "cell_type": "code",
   "execution_count": null,
   "id": "06b00e1b",
   "metadata": {},
   "outputs": [],
   "source": [
    "#Add an axis\n",
    "# 1D to column vector\n",
    "a = np.array([0, 1,2,3,4])\n",
    "a_col = a[:, np.newaxis]\n",
    "print(a_col)\n",
    "a_col.shape\n",
    "a_row=a[np.newaxis,:]\n",
    "print(a_row,a_row.shape)"
   ]
  },
  {
   "cell_type": "code",
   "execution_count": 19,
   "id": "221ee669",
   "metadata": {},
   "outputs": [
    {
     "name": "stdout",
     "output_type": "stream",
     "text": [
      "[33  1  2  3  4  5  6  7  8  9]\n",
      "[[0 1 2 3 4]\n",
      " [5 6 7 8 9]]\n"
     ]
    }
   ],
   "source": [
    "# Flatten: always returns a flat copy of the original array\n",
    "arr5=np.arange(10).reshape(2,5)\n",
    "arr_flt = arr5.flatten()\n",
    "arr_flt[0] = 33\n",
    "print(arr_flt)\n",
    "print(arr5)"
   ]
  },
  {
   "cell_type": "code",
   "execution_count": 21,
   "id": "dfc63954",
   "metadata": {},
   "outputs": [
    {
     "data": {
      "text/plain": [
       "array([0, 1, 2, 3, 4, 5, 6, 7, 8, 9])"
      ]
     },
     "execution_count": 21,
     "metadata": {},
     "output_type": "execute_result"
    }
   ],
   "source": [
    "arr5.ravel()  # returns the modified array, flattened and unchanged in original way, only view"
   ]
  },
  {
   "cell_type": "code",
   "execution_count": 30,
   "id": "e97b90f3",
   "metadata": {},
   "outputs": [
    {
     "data": {
      "text/plain": [
       "array([0, 2], dtype=int64)"
      ]
     },
     "execution_count": 30,
     "metadata": {},
     "output_type": "execute_result"
    }
   ],
   "source": [
    "#Returns the indices of the maximum values along an axis.\n",
    "x = np.array([[4,2,3], [1,0,3]])\n",
    "index_array = np.argmax(x, axis=1)\n",
    "index_array"
   ]
  },
  {
   "cell_type": "code",
   "execution_count": null,
   "id": "913ab7ef",
   "metadata": {},
   "outputs": [],
   "source": [
    "# argmin - index of min value\n",
    "# argnanmax - max index ignoring nan values\n",
    "# argwhere"
   ]
  },
  {
   "cell_type": "code",
   "execution_count": 31,
   "id": "0e137a63",
   "metadata": {},
   "outputs": [
    {
     "data": {
      "text/plain": [
       "array([ 0,  1,  2,  3,  4, 50, 60, 70, 80, 90])"
      ]
     },
     "execution_count": 31,
     "metadata": {},
     "output_type": "execute_result"
    }
   ],
   "source": [
    "#np.where(condition, [x, y, ]/)\n",
    "#Return elements chosen from x or y depending on condition.\n",
    "a = np.arange(10)\n",
    "np.where(a < 5, a, 10*a)"
   ]
  },
  {
   "cell_type": "code",
   "execution_count": 24,
   "id": "3ee2b6d3",
   "metadata": {},
   "outputs": [
    {
     "data": {
      "text/plain": [
       "array([[1, 2, 5, 6],\n",
       "       [3, 4, 7, 8]])"
      ]
     },
     "execution_count": 24,
     "metadata": {},
     "output_type": "execute_result"
    }
   ],
   "source": [
    "a = np.array([[1, 2],[ 3, 4]])\n",
    "b = np.array([[5, 6],[7, 8]])\n",
    "np.concatenate((a,b),axis=1)"
   ]
  },
  {
   "cell_type": "code",
   "execution_count": 4,
   "id": "5e0d7c31",
   "metadata": {},
   "outputs": [
    {
     "data": {
      "text/plain": [
       "array([[ 4., -8., -1.,  6.,  9.,  9.],\n",
       "       [-4., -4., -7.,  7.,  9.,  3.]])"
      ]
     },
     "execution_count": 4,
     "metadata": {},
     "output_type": "execute_result"
    }
   ],
   "source": [
    "a=np.random.randint(1,10,6).reshape(2,3)\n",
    "b=np.floor(10*np.random.randn(2,3))\n",
    "c=np.vstack((a,b))\n",
    "np.hstack((b,a))"
   ]
  },
  {
   "cell_type": "code",
   "execution_count": 8,
   "id": "9654c542",
   "metadata": {},
   "outputs": [
    {
     "data": {
      "text/plain": [
       "[array([[6., 9., 9.],\n",
       "        [7., 9., 3.]]),\n",
       " array([[ 4., -8., -1.],\n",
       "        [-4., -4., -7.]])]"
      ]
     },
     "execution_count": 8,
     "metadata": {},
     "output_type": "execute_result"
    }
   ],
   "source": [
    "# splitting hsplit,vsplit\n",
    "np.vsplit(c,2)"
   ]
  },
  {
   "cell_type": "markdown",
   "id": "29f4023b",
   "metadata": {},
   "source": [
    "#### Slicing and Indexing"
   ]
  },
  {
   "cell_type": "code",
   "execution_count": null,
   "id": "a94208ac",
   "metadata": {},
   "outputs": [],
   "source": [
    "arr = np.arange(10, dtype=float).reshape((2, 5))\n",
    "arr[0] # 0th element (slices like a list)\n",
    "arr[0, 3] # row 0, column 3: returns 4\n",
    "arr[0][3] # alternative syntax"
   ]
  },
  {
   "cell_type": "code",
   "execution_count": null,
   "id": "f610097e",
   "metadata": {},
   "outputs": [],
   "source": [
    "arr[0, :] # row 0: returns 1d array ([1, 2, 3, 4])\n",
    "arr[:, 0] # column 0: returns 1d array ([1, 5])\n",
    "arr[:, :2] # columns strictly before index 2 (2 first columns)\n",
    "arr[:, 2:] # columns after index 2 included\n",
    "ab = arr[:, 1:4] # columns between index 1 (included) and 4 (excluded)\n",
    "print(ab)\n",
    "ab[[0,1]]"
   ]
  },
  {
   "cell_type": "code",
   "execution_count": null,
   "id": "132751f8",
   "metadata": {},
   "outputs": [],
   "source": [
    "#reverse order\n",
    "print(arr[0, ::-1])"
   ]
  },
  {
   "cell_type": "code",
   "execution_count": null,
   "id": "cfdd12be",
   "metadata": {},
   "outputs": [],
   "source": [
    "#Boolean arrays indexing\n",
    "arr2 = arr[arr > 5] # return a copy\n",
    "print(arr2)\n",
    "arr2[0] = 44\n",
    "print(arr2)\n",
    "print(arr)"
   ]
  },
  {
   "cell_type": "code",
   "execution_count": 10,
   "id": "b9bee358",
   "metadata": {},
   "outputs": [
    {
     "data": {
      "text/plain": [
       "array([[3.51182162, 3.9504637 , 3.14415961],\n",
       "       [3.94864945, 3.31183145, 3.42332645],\n",
       "       [3.82770259, 3.40919914, 3.54959369],\n",
       "       [3.02755911, 3.75351311, 3.53814331]])"
      ]
     },
     "execution_count": 10,
     "metadata": {},
     "output_type": "execute_result"
    }
   ],
   "source": [
    "rg = np.random.default_rng(1)  # create instance of default random number generator\n",
    "a = np.ones((4, 3), dtype=int)\n",
    "b = rg.random((4, 3))\n",
    "a *= 3\n",
    "b += a\n",
    "b"
   ]
  },
  {
   "cell_type": "code",
   "execution_count": null,
   "id": "749f1674",
   "metadata": {},
   "outputs": [],
   "source": [
    "np.random.default_rng"
   ]
  },
  {
   "cell_type": "code",
   "execution_count": null,
   "id": "3321e886",
   "metadata": {},
   "outputs": [],
   "source": [
    "names=np.array(['Raj','Sam','Ram','Sam','Mick','Lucky','Sam'])\n",
    "data=np.random.randn(7,4)  #random function\n",
    "data"
   ]
  },
  {
   "cell_type": "code",
   "execution_count": null,
   "id": "07342b6b",
   "metadata": {},
   "outputs": [],
   "source": [
    "names"
   ]
  },
  {
   "cell_type": "code",
   "execution_count": null,
   "id": "37d2952b",
   "metadata": {},
   "outputs": [],
   "source": [
    "np.unique(names)"
   ]
  },
  {
   "cell_type": "code",
   "execution_count": null,
   "id": "a914cb56",
   "metadata": {},
   "outputs": [],
   "source": [
    "names=='Sam'    #boolean "
   ]
  },
  {
   "cell_type": "code",
   "execution_count": null,
   "id": "56e8b0c7",
   "metadata": {},
   "outputs": [],
   "source": [
    "data[names=='Sam']"
   ]
  },
  {
   "cell_type": "code",
   "execution_count": null,
   "id": "4b3f4e77",
   "metadata": {},
   "outputs": [],
   "source": [
    "data[names=='Sam',:2]"
   ]
  },
  {
   "cell_type": "code",
   "execution_count": null,
   "id": "712dcdfd",
   "metadata": {},
   "outputs": [],
   "source": [
    "mask=(names=='Sam')&(names!='Raj')\n",
    "mask"
   ]
  },
  {
   "cell_type": "code",
   "execution_count": null,
   "id": "1652c587",
   "metadata": {},
   "outputs": [],
   "source": [
    "data[mask]"
   ]
  },
  {
   "cell_type": "code",
   "execution_count": null,
   "id": "fc94f9bc",
   "metadata": {},
   "outputs": [],
   "source": [
    "data[data<0]=0\n",
    "data"
   ]
  },
  {
   "cell_type": "code",
   "execution_count": null,
   "id": "0c59a1cd",
   "metadata": {},
   "outputs": [],
   "source": [
    "data[[2,3]] #row 2,3"
   ]
  },
  {
   "cell_type": "code",
   "execution_count": null,
   "id": "bfd4bbcb",
   "metadata": {},
   "outputs": [],
   "source": [
    "data[0:2,2:]"
   ]
  },
  {
   "cell_type": "code",
   "execution_count": null,
   "id": "35ad851a",
   "metadata": {},
   "outputs": [],
   "source": [
    "data[3,3] #row3,column3"
   ]
  },
  {
   "cell_type": "code",
   "execution_count": null,
   "id": "52713f2d",
   "metadata": {},
   "outputs": [],
   "source": [
    "data1=np.arange(20).reshape(4,5)\n",
    "data1.T       #Transposes 2D array"
   ]
  },
  {
   "cell_type": "code",
   "execution_count": null,
   "id": "cf5d16e3",
   "metadata": {},
   "outputs": [],
   "source": [
    "data2=np.arange(27).reshape(3,3,3)"
   ]
  },
  {
   "cell_type": "code",
   "execution_count": null,
   "id": "ea41db56",
   "metadata": {},
   "outputs": [],
   "source": [
    "np.dot(data1.T,data1)  # dot product"
   ]
  },
  {
   "cell_type": "code",
   "execution_count": null,
   "id": "60696a9d",
   "metadata": {},
   "outputs": [],
   "source": [
    "data2"
   ]
  },
  {
   "cell_type": "code",
   "execution_count": null,
   "id": "6ba2b3de",
   "metadata": {},
   "outputs": [],
   "source": [
    "data2.transpose(1,0,2)   #Transpose multi D"
   ]
  },
  {
   "cell_type": "code",
   "execution_count": null,
   "id": "c13f7da7",
   "metadata": {},
   "outputs": [],
   "source": [
    "data2.swapaxes(2,1)     #swaping axes"
   ]
  },
  {
   "cell_type": "markdown",
   "id": "dccc4b8f",
   "metadata": {},
   "source": [
    "#### Random"
   ]
  },
  {
   "cell_type": "code",
   "execution_count": 179,
   "id": "4a273bb0",
   "metadata": {},
   "outputs": [
    {
     "data": {
      "text/plain": [
       "array([0, 0, 0, 1, 1, 0, 1, 1, 1, 1])"
      ]
     },
     "execution_count": 179,
     "metadata": {},
     "output_type": "execute_result"
    }
   ],
   "source": [
    "# math and stats\n",
    "rnd = np.random.randn(4, 2) # random normals in 4x2 array\n",
    "rnd.mean()\n",
    "rnd.std()\n",
    "rnd.argmin() # index of minimum element\n",
    "rnd.sum()\n",
    "rnd.sum(axis=0) # sum of columns\n",
    "rnd.sum(axis=1) # sum of rows\n",
    "# methods for boolean arrays\n",
    "(rnd > 0).sum() # counts number of positive values\n",
    "(rnd > 0).any() # checks if any value is True\n",
    "(rnd > 0).all() # checks if all values are True\n",
    "# random numbers\n",
    "np.random.seed(12234) # Set the seed\n",
    "np.random.rand(2, 3) # 2 x 3 matrix in [0, 1]\n",
    "np.random.randn(10) # random normals (mean 0, sd 1)\n",
    "np.random.randint(0, 2, 10) # 10 randomly picked 0 or 1"
   ]
  },
  {
   "cell_type": "code",
   "execution_count": 184,
   "id": "89b7c896",
   "metadata": {},
   "outputs": [],
   "source": [
    "np.random.seed(12234)"
   ]
  },
  {
   "cell_type": "code",
   "execution_count": 7,
   "id": "aafee4c1",
   "metadata": {},
   "outputs": [
    {
     "data": {
      "text/plain": [
       "array([[16,  4],\n",
       "       [18, 12]])"
      ]
     },
     "execution_count": 7,
     "metadata": {},
     "output_type": "execute_result"
    }
   ],
   "source": [
    "A = np.array([[2, 1],\n",
    "              [0, 3]])\n",
    "B = np.array([[5, 0],\n",
    "              [6, 4]])\n",
    "A * B     # elementwise product\n",
    "A @ B     # matrix product\n",
    "A.dot(B)  # another matrix product"
   ]
  },
  {
   "cell_type": "markdown",
   "id": "50b08446",
   "metadata": {},
   "source": [
    "#### Broadcasting"
   ]
  },
  {
   "cell_type": "code",
   "execution_count": 4,
   "id": "bc7f3fdf",
   "metadata": {},
   "outputs": [
    {
     "name": "stdout",
     "output_type": "stream",
     "text": [
      "[[ 0  1  2]\n",
      " [10 11 12]\n",
      " [20 21 22]\n",
      " [30 31 32]]\n"
     ]
    }
   ],
   "source": [
    "a = np.array([[ 0, 0, 0],     # smaller array is stretched to larger\n",
    "[10, 10, 10],\n",
    "[20, 20, 20],\n",
    "[30, 30, 30]])\n",
    "b = np.array([0, 1, 2])\n",
    "print(a + b)"
   ]
  },
  {
   "cell_type": "markdown",
   "id": "24b37b4c",
   "metadata": {},
   "source": [
    "##### Unary functions"
   ]
  },
  {
   "cell_type": "code",
   "execution_count": null,
   "id": "c57dfbf1",
   "metadata": {},
   "outputs": [],
   "source": [
    "data3=np.arange(5)    #ufunc   universal\n",
    "np.sqrt(data3)         #unary\n",
    "np.exp(data3)"
   ]
  },
  {
   "cell_type": "code",
   "execution_count": null,
   "id": "0b0155b4",
   "metadata": {},
   "outputs": [],
   "source": [
    "x=np.random.randn(5)\n",
    "y=np.random.randn(5)\n",
    "np.maximum(x,y)         #binary"
   ]
  },
  {
   "cell_type": "code",
   "execution_count": null,
   "id": "f76f246b",
   "metadata": {},
   "outputs": [],
   "source": [
    "z=np.random.randn(10)*5"
   ]
  },
  {
   "cell_type": "code",
   "execution_count": null,
   "id": "cb11b265",
   "metadata": {},
   "outputs": [],
   "source": [
    "np.modf(z)  #results in fractional and integral part"
   ]
  },
  {
   "cell_type": "markdown",
   "id": "c10a9abf",
   "metadata": {},
   "source": [
    "Unary ufuncs\n",
    "\n",
    "* abs, fabs - absolute \n",
    "* sqrt  - arr ** 0.5 \n",
    "* square - arr ** 2 \n",
    "* exp  - exponent \n",
    "* log, log10, log2, log1p \n",
    "* sign ceil floor rint modf \n",
    "* isnan  is NaN (Not a Number)\n",
    "* isfinite, isinf \n",
    "* cos, cosh, sin, sinh, tan, tanh\n",
    "* arccos, arccosh, arcsin,\n",
    "* arcsinh, arctan, arctanh\n",
    "* logical_not - Compute truth value of not x element-wise. Equivalent to -arr"
   ]
  },
  {
   "cell_type": "markdown",
   "id": "a0c79322",
   "metadata": {},
   "source": [
    "Binary ufuncs\n",
    "\n",
    "1. add                      - Add corresponding elements in arrays\n",
    "2. subtract                 - Subtract elements in second array from first array\n",
    "2. multiply                 - Multiply array elements\n",
    "2. divide, floor_divide     - Divide or floor divide (truncating the remainder)\n",
    "2. power                    - Raise elements in first array to powers indicated in second array\n",
    "2. maximum, fmax            - Element-wise maximum. fmax ignores NaN\n",
    "2. minimum, fmin            - Element-wise minimum. fmin ignores NaN\n",
    "2. mod                      - Element-wise modulus (remainder of division)\n",
    "2. copysign"
   ]
  },
  {
   "cell_type": "code",
   "execution_count": null,
   "id": "007655f1",
   "metadata": {},
   "outputs": [],
   "source": [
    "points=np.arange(-5,5,1)\n",
    "xs,ys=np.meshgrid(points,points)\n",
    "xs"
   ]
  },
  {
   "cell_type": "code",
   "execution_count": null,
   "id": "f7a3fe38",
   "metadata": {},
   "outputs": [],
   "source": [
    "z=np.sqrt(xs**2+ys**2)\n",
    "z"
   ]
  },
  {
   "cell_type": "code",
   "execution_count": null,
   "id": "cfaea1c4",
   "metadata": {},
   "outputs": [],
   "source": [
    "import matplotlib.pyplot as plt\n",
    "plt.imshow(z, cmap=plt.cm.gray)\n",
    "plt.colorbar()\n",
    "plt.title(\"Image plot of $\\sqrt{x^2 + y^2}$ for a grid of values\")"
   ]
  },
  {
   "cell_type": "code",
   "execution_count": 5,
   "id": "1186320c",
   "metadata": {},
   "outputs": [
    {
     "data": {
      "text/plain": [
       "array([[1, 1, 1, 0],\n",
       "       [1, 0, 0, 0],\n",
       "       [1, 1, 0, 1],\n",
       "       [0, 1, 0, 0]])"
      ]
     },
     "execution_count": 5,
     "metadata": {},
     "output_type": "execute_result"
    }
   ],
   "source": [
    "arr2=np.random.randn(4,4)    #ternary expression x if condition else y\n",
    "arr2\n",
    "result=np.where(arr2>0,1,0)\n",
    "result"
   ]
  },
  {
   "cell_type": "code",
   "execution_count": null,
   "id": "7adf62b4",
   "metadata": {},
   "outputs": [],
   "source": [
    "arr3=np.random.randn(3,3)\n",
    "arr3.sum()\n",
    "arr3.mean()"
   ]
  },
  {
   "cell_type": "code",
   "execution_count": null,
   "id": "d555abee",
   "metadata": {},
   "outputs": [],
   "source": [
    "np.mean(arr3)"
   ]
  },
  {
   "cell_type": "code",
   "execution_count": null,
   "id": "c9a458ad",
   "metadata": {},
   "outputs": [],
   "source": [
    "arr4=np.random.randn(4,5)\n",
    "print(arr4)\n",
    "arr4.sort()\n",
    "arr4\n"
   ]
  },
  {
   "cell_type": "markdown",
   "id": "42b2ab93",
   "metadata": {},
   "source": [
    "Linear algebra\n",
    "\n",
    "* diag: Return the diagonal (or off-diagonal) elements of a square matrix as a 1D array, or convert a 1D array into a square matrix with zeros on the off-diagonal\n",
    "* dot: Matrix multiplication\n",
    "* trace: Compute the sum of the diagonal elements\n",
    "* det: Compute the matrix determinant\n",
    "* eig: Compute the eigenvalues and eigenvectors of a square matrix\n",
    "* inv: Compute the inverse of a square matrix\n",
    "* pinv: Compute the Moore-Penrose pseudo-inverse inverse of a square matrix\n",
    "* qr: Compute the QR decomposition\n",
    "* svd: Compute the singular value decomposition (SVD)\n",
    "* solve: Solve the linear system Ax = b for x, where A is a square matrix\n",
    "* lstsq: Compute the least-squares solution to y = Xb"
   ]
  },
  {
   "cell_type": "code",
   "execution_count": null,
   "id": "b025e291",
   "metadata": {},
   "outputs": [],
   "source": [
    "arr8=np.array([[1,2],[6,7]])   \n",
    "a,b=np.linalg.qr(arr8)\n",
    "b"
   ]
  },
  {
   "cell_type": "markdown",
   "id": "dcd27202",
   "metadata": {},
   "source": [
    " Random\n",
    "\n",
    "* seed: Seed the random number generator \n",
    "* permutation: Return a random permutation of a sequence, or return a permuted range\n",
    "* shuffle: Randomly permute a sequence in place\n",
    "* rand: Draw samples from a uniform distribution\n",
    "* randint: Draw random integers from a given low-to-high range\n",
    "* randn: Draw samples from a normal distribution with mean 0 and standard deviation 1 (MATLAB-like interface)\n",
    "* binomial: Draw samples from a binomial distribution\n",
    "* normal: Draw samples from a normal (Gaussian) distribution\n",
    "* beta: Draw samples from a beta distribution\n",
    "* chisquare: Draw samples from a chi-square distribution\n",
    "* gamma: Draw samples from a gamma distribution\n",
    "* uniform: Draw samples from a uniform [0, 1) distribution"
   ]
  },
  {
   "cell_type": "markdown",
   "id": "cbf07d48",
   "metadata": {},
   "source": []
  }
 ],
 "metadata": {
  "kernelspec": {
   "display_name": "Python 3.8.1 64-bit",
   "language": "python",
   "name": "python3"
  },
  "language_info": {
   "codemirror_mode": {
    "name": "ipython",
    "version": 3
   },
   "file_extension": ".py",
   "mimetype": "text/x-python",
   "name": "python",
   "nbconvert_exporter": "python",
   "pygments_lexer": "ipython3",
   "version": "3.8.1"
  },
  "vscode": {
   "interpreter": {
    "hash": "b081a66ee97bd2b6a16f43955f1d810b7ea816d6eaeb65e157ef9e038445f0c6"
   }
  }
 },
 "nbformat": 4,
 "nbformat_minor": 5
}
